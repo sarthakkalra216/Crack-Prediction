{
 "cells": [
  {
   "cell_type": "code",
   "execution_count": 2,
   "metadata": {
    "execution": {
     "iopub.execute_input": "2023-02-14T15:14:29.790232Z",
     "iopub.status.busy": "2023-02-14T15:14:29.789893Z",
     "iopub.status.idle": "2023-02-14T15:14:38.967649Z",
     "shell.execute_reply": "2023-02-14T15:14:38.966683Z",
     "shell.execute_reply.started": "2023-02-14T15:14:29.790151Z"
    }
   },
   "outputs": [],
   "source": [
    "\n",
    "import pandas as pd \n",
    "import numpy as np\n",
    "import matplotlib.pyplot as plt\n",
    "import seaborn as sns\n",
    "import plotly.express as px \n",
    "\n",
    "import os.path\n",
    "from pathlib import Path\n",
    "from sklearn.model_selection import train_test_split\n",
    "\n",
    "import tensorflow as tf\n",
    "\n",
    "from sklearn.metrics import confusion_matrix, classification_report"
   ]
  },
  {
   "cell_type": "code",
   "execution_count": 4,
   "metadata": {
    "execution": {
     "iopub.execute_input": "2023-02-14T15:14:38.970869Z",
     "iopub.status.busy": "2023-02-14T15:14:38.969466Z",
     "iopub.status.idle": "2023-02-14T15:14:38.975674Z",
     "shell.execute_reply": "2023-02-14T15:14:38.974715Z",
     "shell.execute_reply.started": "2023-02-14T15:14:38.970828Z"
    }
   },
   "outputs": [],
   "source": [
    "from pathlib import Path\n",
    "positive_dir = Path('Positive')\n",
    "negative_dir = Path('Negative')"
   ]
  },
  {
   "cell_type": "code",
   "execution_count": 5,
   "metadata": {
    "_kg_hide-output": false,
    "execution": {
     "iopub.execute_input": "2023-02-14T15:14:38.979116Z",
     "iopub.status.busy": "2023-02-14T15:14:38.976934Z",
     "iopub.status.idle": "2023-02-14T15:14:38.989599Z",
     "shell.execute_reply": "2023-02-14T15:14:38.988729Z",
     "shell.execute_reply.started": "2023-02-14T15:14:38.979071Z"
    }
   },
   "outputs": [
    {
     "data": {
      "text/plain": [
       "<generator object Path.glob at 0x0000013EA9791E40>"
      ]
     },
     "execution_count": 5,
     "metadata": {},
     "output_type": "execute_result"
    }
   ],
   "source": [
    "positive_dir.glob(r'*jpg')"
   ]
  },
  {
   "cell_type": "code",
   "execution_count": 6,
   "metadata": {
    "execution": {
     "iopub.execute_input": "2023-02-14T15:14:38.993533Z",
     "iopub.status.busy": "2023-02-14T15:14:38.992808Z",
     "iopub.status.idle": "2023-02-14T15:14:38.99974Z",
     "shell.execute_reply": "2023-02-14T15:14:38.998714Z",
     "shell.execute_reply.started": "2023-02-14T15:14:38.993496Z"
    }
   },
   "outputs": [],
   "source": [
    "def generate_df(image_dir, label):\n",
    "    filepath = pd.Series(list(image_dir.glob(r'*jpg')), name='Filepath').astype(str)\n",
    "    labels = pd.Series(label, name='Label', index=filepath.index).astype(str)\n",
    "    df = pd.concat([filepath, labels], axis=1)\n",
    "    return df"
   ]
  },
  {
   "cell_type": "code",
   "execution_count": 7,
   "metadata": {
    "execution": {
     "iopub.execute_input": "2023-02-14T15:14:39.001991Z",
     "iopub.status.busy": "2023-02-14T15:14:39.001053Z",
     "iopub.status.idle": "2023-02-14T15:14:40.411284Z",
     "shell.execute_reply": "2023-02-14T15:14:40.410322Z",
     "shell.execute_reply.started": "2023-02-14T15:14:39.001943Z"
    }
   },
   "outputs": [
    {
     "data": {
      "text/html": [
       "<div>\n",
       "<style scoped>\n",
       "    .dataframe tbody tr th:only-of-type {\n",
       "        vertical-align: middle;\n",
       "    }\n",
       "\n",
       "    .dataframe tbody tr th {\n",
       "        vertical-align: top;\n",
       "    }\n",
       "\n",
       "    .dataframe thead th {\n",
       "        text-align: right;\n",
       "    }\n",
       "</style>\n",
       "<table border=\"1\" class=\"dataframe\">\n",
       "  <thead>\n",
       "    <tr style=\"text-align: right;\">\n",
       "      <th></th>\n",
       "      <th>Filepath</th>\n",
       "      <th>Label</th>\n",
       "    </tr>\n",
       "  </thead>\n",
       "  <tbody>\n",
       "    <tr>\n",
       "      <th>0</th>\n",
       "      <td>Positive\\03842.jpg</td>\n",
       "      <td>1</td>\n",
       "    </tr>\n",
       "    <tr>\n",
       "      <th>1</th>\n",
       "      <td>Positive\\12899_1.jpg</td>\n",
       "      <td>1</td>\n",
       "    </tr>\n",
       "    <tr>\n",
       "      <th>2</th>\n",
       "      <td>Positive\\15033_1.jpg</td>\n",
       "      <td>1</td>\n",
       "    </tr>\n",
       "    <tr>\n",
       "      <th>3</th>\n",
       "      <td>Negative\\16782.jpg</td>\n",
       "      <td>0</td>\n",
       "    </tr>\n",
       "    <tr>\n",
       "      <th>4</th>\n",
       "      <td>Positive\\09202.jpg</td>\n",
       "      <td>1</td>\n",
       "    </tr>\n",
       "  </tbody>\n",
       "</table>\n",
       "</div>"
      ],
      "text/plain": [
       "               Filepath Label\n",
       "0    Positive\\03842.jpg     1\n",
       "1  Positive\\12899_1.jpg     1\n",
       "2  Positive\\15033_1.jpg     1\n",
       "3    Negative\\16782.jpg     0\n",
       "4    Positive\\09202.jpg     1"
      ]
     },
     "execution_count": 7,
     "metadata": {},
     "output_type": "execute_result"
    }
   ],
   "source": [
    "positive_df = generate_df(positive_dir, label=1)\n",
    "negative_df = generate_df(negative_dir, label=0)\n",
    "all_df = pd.concat([positive_df, negative_df], axis=0).sample(frac=1.0, random_state=1).reset_index(drop=True)\n",
    "all_df.head()"
   ]
  },
  {
   "cell_type": "code",
   "execution_count": 8,
   "metadata": {
    "execution": {
     "iopub.execute_input": "2023-02-14T15:14:40.412991Z",
     "iopub.status.busy": "2023-02-14T15:14:40.412621Z",
     "iopub.status.idle": "2023-02-14T15:14:40.423516Z",
     "shell.execute_reply": "2023-02-14T15:14:40.422542Z",
     "shell.execute_reply.started": "2023-02-14T15:14:40.412955Z"
    }
   },
   "outputs": [],
   "source": [
    "train_df, test_df = train_test_split(all_df, train_size=.7, shuffle=True, random_state=1)"
   ]
  },
  {
   "cell_type": "code",
   "execution_count": 9,
   "metadata": {
    "execution": {
     "iopub.execute_input": "2023-02-14T15:14:40.425583Z",
     "iopub.status.busy": "2023-02-14T15:14:40.424849Z",
     "iopub.status.idle": "2023-02-14T15:14:41.276456Z",
     "shell.execute_reply": "2023-02-14T15:14:41.275483Z",
     "shell.execute_reply.started": "2023-02-14T15:14:40.425521Z"
    }
   },
   "outputs": [],
   "source": [
    "train_gen = tf.keras.preprocessing.image.ImageDataGenerator(\n",
    "    rescale=1./255, \n",
    "    validation_split=.2\n",
    ")\n",
    "\n",
    "test_gen = tf.keras.preprocessing.image.ImageDataGenerator(\n",
    "    rescale=1./255\n",
    ")"
   ]
  },
  {
   "cell_type": "code",
   "execution_count": 10,
   "metadata": {
    "execution": {
     "iopub.execute_input": "2023-02-14T15:14:41.278423Z",
     "iopub.status.busy": "2023-02-14T15:14:41.278093Z",
     "iopub.status.idle": "2023-02-14T15:16:52.13611Z",
     "shell.execute_reply": "2023-02-14T15:16:52.135047Z",
     "shell.execute_reply.started": "2023-02-14T15:14:41.278388Z"
    }
   },
   "outputs": [
    {
     "name": "stdout",
     "output_type": "stream",
     "text": [
      "Found 22400 validated image filenames belonging to 2 classes.\n",
      "Found 5600 validated image filenames belonging to 2 classes.\n",
      "Found 12000 validated image filenames belonging to 2 classes.\n"
     ]
    }
   ],
   "source": [
    "train_data = train_gen.flow_from_dataframe(\n",
    "    train_df,\n",
    "    x_col='Filepath',\n",
    "    y_col='Label',\n",
    "    target_size=(120, 120),\n",
    "    color_mode='rgb',\n",
    "    class_mode='binary',\n",
    "    batch_size=32,\n",
    "    shuffle=True,\n",
    "    seed=42,\n",
    "    subset='training'\n",
    ")\n",
    "\n",
    "val_data = train_gen.flow_from_dataframe(\n",
    "    train_df,\n",
    "    x_col='Filepath',\n",
    "    y_col='Label',\n",
    "    target_size=(120, 120),\n",
    "    color_mode='rgb',\n",
    "    class_mode='binary',\n",
    "    batch_size=32,\n",
    "    shuffle=True,\n",
    "    seed=42,\n",
    "    subset='validation'\n",
    ")\n",
    "\n",
    "test_data = test_gen.flow_from_dataframe(\n",
    "    test_df,\n",
    "    x_col='Filepath',\n",
    "    y_col='Label',\n",
    "    target_size=(120, 120),\n",
    "    color_mode='rgb',\n",
    "    class_mode='binary',\n",
    "    batch_size=32,\n",
    "    shuffle=False,\n",
    "    seed=42\n",
    ")"
   ]
  },
  {
   "cell_type": "code",
   "execution_count": 11,
   "metadata": {
    "execution": {
     "iopub.execute_input": "2023-02-14T15:16:52.13881Z",
     "iopub.status.busy": "2023-02-14T15:16:52.137529Z",
     "iopub.status.idle": "2023-02-14T15:16:56.049267Z",
     "shell.execute_reply": "2023-02-14T15:16:56.048238Z",
     "shell.execute_reply.started": "2023-02-14T15:16:52.138771Z"
    },
    "jupyter": {
     "outputs_hidden": true
    }
   },
   "outputs": [
    {
     "name": "stdout",
     "output_type": "stream",
     "text": [
      "Model: \"model\"\n",
      "_________________________________________________________________\n",
      " Layer (type)                Output Shape              Param #   \n",
      "=================================================================\n",
      " input_1 (InputLayer)        [(None, 120, 120, 3)]     0         \n",
      "                                                                 \n",
      " conv2d (Conv2D)             (None, 118, 118, 16)      448       \n",
      "                                                                 \n",
      " max_pooling2d (MaxPooling2D  (None, 59, 59, 16)       0         \n",
      " )                                                               \n",
      "                                                                 \n",
      " conv2d_1 (Conv2D)           (None, 57, 57, 32)        4640      \n",
      "                                                                 \n",
      " max_pooling2d_1 (MaxPooling  (None, 28, 28, 32)       0         \n",
      " 2D)                                                             \n",
      "                                                                 \n",
      " global_average_pooling2d (G  (None, 32)               0         \n",
      " lobalAveragePooling2D)                                          \n",
      "                                                                 \n",
      " dense (Dense)               (None, 1)                 33        \n",
      "                                                                 \n",
      "=================================================================\n",
      "Total params: 5,121\n",
      "Trainable params: 5,121\n",
      "Non-trainable params: 0\n",
      "_________________________________________________________________\n",
      "None\n"
     ]
    }
   ],
   "source": [
    "# Creating a simple cnn model, not much filters on Conv2D to not overcomplicating our problem of detection \n",
    "# Concrete crack should be easy to detect so we are not gonna need much filtering from convolutional layers\n",
    "\n",
    "inputs = tf.keras.Input(shape=(120, 120, 3))\n",
    "x = tf.keras.layers.Conv2D(filters=16, kernel_size=(3, 3), activation='relu')(inputs)\n",
    "x = tf.keras.layers.MaxPool2D(pool_size=(2, 2))(x)\n",
    "x = tf.keras.layers.Conv2D(filters=32, kernel_size=(3, 3), activation='relu')(x)\n",
    "x = tf.keras.layers.MaxPool2D(pool_size=(2, 2))(x)\n",
    "x = tf.keras.layers.GlobalAveragePooling2D()(x)\n",
    "outputs = tf.keras.layers.Dense(1, activation='sigmoid')(x)\n",
    "\n",
    "model = tf.keras.Model(inputs=inputs, outputs=outputs)\n",
    "\n",
    "model.compile(\n",
    "    optimizer='adam',\n",
    "    loss='binary_crossentropy',\n",
    "    metrics=['accuracy']\n",
    ")\n",
    "\n",
    "print(model.summary())"
   ]
  },
  {
   "cell_type": "code",
   "execution_count": null,
   "metadata": {
    "execution": {
     "iopub.execute_input": "2023-02-14T15:16:56.053646Z",
     "iopub.status.busy": "2023-02-14T15:16:56.052653Z",
     "iopub.status.idle": "2023-02-14T15:27:38.803532Z",
     "shell.execute_reply": "2023-02-14T15:27:38.8026Z",
     "shell.execute_reply.started": "2023-02-14T15:16:56.053608Z"
    }
   },
   "outputs": [
    {
     "name": "stdout",
     "output_type": "stream",
     "text": [
      "Epoch 1/10\n",
      "272/700 [==========>...................] - ETA: 1:43 - loss: 0.6337 - accuracy: 0.6556"
     ]
    }
   ],
   "source": [
    "history = model.fit(\n",
    "    train_data,\n",
    "    validation_data=val_data,\n",
    "    epochs=10,\n",
    "    callbacks=[\n",
    "        tf.keras.callbacks.EarlyStopping(\n",
    "        monitor='val_loss',\n",
    "        patience=3,\n",
    "        restore_best_weights=True\n",
    "        )\n",
    "    ]\n",
    ")"
   ]
  },
  {
   "cell_type": "code",
   "execution_count": null,
   "metadata": {
    "execution": {
     "iopub.execute_input": "2023-02-14T15:27:38.805492Z",
     "iopub.status.busy": "2023-02-14T15:27:38.805186Z",
     "iopub.status.idle": "2023-02-14T15:28:05.633077Z",
     "shell.execute_reply": "2023-02-14T15:28:05.632079Z",
     "shell.execute_reply.started": "2023-02-14T15:27:38.805465Z"
    }
   },
   "outputs": [],
   "source": [
    "plt.plot(history.history['loss'], label='Training Data')\n",
    "plt.plot(history.history['val_loss'], label='Test Data')\n",
    "plt.title('Model loss')\n",
    "plt.ylabel('Loss value')\n",
    "plt.xlabel('No. epoch')\n",
    "plt.legend(loc=\"upper right\")\n",
    "plt.show()"
   ]
  },
  {
   "cell_type": "code",
   "execution_count": null,
   "metadata": {
    "execution": {
     "iopub.execute_input": "2023-02-14T15:28:05.635136Z",
     "iopub.status.busy": "2023-02-14T15:28:05.634546Z",
     "iopub.status.idle": "2023-02-14T15:28:05.85154Z",
     "shell.execute_reply": "2023-02-14T15:28:05.850602Z",
     "shell.execute_reply.started": "2023-02-14T15:28:05.635098Z"
    }
   },
   "outputs": [],
   "source": [
    "plt.plot(history.history['accuracy'], label='Training Data')\n",
    "plt.plot(history.history['val_accuracy'], label='Test Data')\n",
    "plt.title('Model accuracy')\n",
    "plt.ylabel('accuracy')\n",
    "plt.xlabel('epoch')\n",
    "plt.legend(loc='lower right')\n",
    "plt.show()"
   ]
  },
  {
   "cell_type": "code",
   "execution_count": null,
   "metadata": {},
   "outputs": [],
   "source": []
  }
 ],
 "metadata": {
  "kernelspec": {
   "display_name": "Python 3 (ipykernel)",
   "language": "python",
   "name": "python3"
  },
  "language_info": {
   "codemirror_mode": {
    "name": "ipython",
    "version": 3
   },
   "file_extension": ".py",
   "mimetype": "text/x-python",
   "name": "python",
   "nbconvert_exporter": "python",
   "pygments_lexer": "ipython3",
   "version": "3.9.7"
  }
 },
 "nbformat": 4,
 "nbformat_minor": 4
}
